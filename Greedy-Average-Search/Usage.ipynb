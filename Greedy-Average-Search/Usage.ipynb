{
 "cells": [
  {
   "cell_type": "markdown",
   "id": "0d79ffb7",
   "metadata": {},
   "source": [
    "python run_benchmark.py \n",
    "\n",
    "--v_range 100 100\n",
    "\n",
    "--m 50 \n",
    "\n",
    "--k_values 2 3 4 \n",
    "\n",
    "--algorithms greedy spectral gw_sdp"
   ]
  },
  {
   "cell_type": "markdown",
   "id": "6f6b1600",
   "metadata": {},
   "source": []
  }
 ],
 "metadata": {
  "language_info": {
   "name": "python"
  }
 },
 "nbformat": 4,
 "nbformat_minor": 5
}
