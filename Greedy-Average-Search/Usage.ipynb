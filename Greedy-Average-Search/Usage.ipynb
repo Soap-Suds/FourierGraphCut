{
 "cells": [
  {
   "cell_type": "markdown",
   "id": "0d79ffb7",
   "metadata": {},
   "source": [
    "python run_benchmark.py \n",
    "\n",
    "--v_range 100 100\n",
    "\n",
    "--m 50 \n",
    "\n",
    "--k_values 2 3 4 \n",
    "\n",
    "--algorithms greedy spectral gw_sdp"
   ]
  },
  {
   "cell_type": "markdown",
   "id": "6f6b1600",
   "metadata": {},
   "source": [
    "# Compare all runs\n",
    "python analyze_results.py --summary\n",
    "\n",
    "# Generate comparison plots\n",
    "python analyze_results.py --plot --k 3\n",
    "\n",
    "# Compare specific runs\n",
    "python analyze_results.py --runs run_20241127_143052 run_20241127_150232"
   ]
  }
 ],
 "metadata": {
  "language_info": {
   "name": "python"
  }
 },
 "nbformat": 4,
 "nbformat_minor": 5
}
