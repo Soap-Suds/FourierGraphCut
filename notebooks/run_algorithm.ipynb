{
 "cells": [
  {
   "cell_type": "markdown",
   "metadata": {},
   "source": [
    "# Run Algorithm\n",
    "\n",
    "This notebook is designed to run the Lazy Branch and Bound algorithm using various datasets. It imports the necessary classes and functions from the `src` package. We'll be considering the following graph types:"
   ]
  },
  {
   "cell_type": "markdown",
   "metadata": {},
   "source": [
    "| Edge Probability \\( $d$ \\)  | Graph Type                        |\n",
    "|---------------------------|-----------------------------------|\n",
    "| \\( $d \\sim 1/n$ \\)          | Very sparse (isolated nodes)      |\n",
    "| \\( $d \\sim \\log n / n$ \\)   | Transition to connectivity        |\n",
    "| \\( $d \\sim 1/\\sqrt{n}$ \\)   | Extremely sparse (more spread out)|\n",
    "| \\( $d \\sim 0.1$ \\)          | Moderately sparse                 |\n",
    "| \\( $d \\sim 0.25$ \\)         | Moderately sparse, intermediate   |\n",
    "| \\( $d \\sim 0.5$ \\)          | Moderately dense                  |\n",
    "| \\( $d \\sim 0.75$ \\)         | Moderately dense, intermediate    |\n",
    "| \\( $d \\sim 1 - \\epsilon$ \\) | Very dense (near complete graph)  |"
   ]
  },
  {
   "cell_type": "code",
   "execution_count": null,
   "metadata": {
    "id": "import-libraries"
   },
   "outputs": [
    {
     "ename": "ModuleNotFoundError",
     "evalue": "No module named 'src'",
     "output_type": "error",
     "traceback": [
      "\u001b[1;31m---------------------------------------------------------------------------\u001b[0m",
      "\u001b[1;31mModuleNotFoundError\u001b[0m                       Traceback (most recent call last)",
      "Cell \u001b[1;32mIn[2], line 2\u001b[0m\n\u001b[0;32m      1\u001b[0m \u001b[38;5;28;01mimport\u001b[39;00m\u001b[38;5;250m \u001b[39m\u001b[38;5;21;01mnumpy\u001b[39;00m\u001b[38;5;250m \u001b[39m\u001b[38;5;28;01mas\u001b[39;00m\u001b[38;5;250m \u001b[39m\u001b[38;5;21;01mnp\u001b[39;00m\n\u001b[1;32m----> 2\u001b[0m \u001b[38;5;28;01mfrom\u001b[39;00m\u001b[38;5;250m \u001b[39m\u001b[38;5;21;01msrc\u001b[39;00m\u001b[38;5;21;01m.\u001b[39;00m\u001b[38;5;21;01mlazy_branch_and_bound\u001b[39;00m\u001b[38;5;250m \u001b[39m\u001b[38;5;28;01mimport\u001b[39;00m LazyBranchAndBound\n\u001b[0;32m      3\u001b[0m \u001b[38;5;28;01mfrom\u001b[39;00m\u001b[38;5;250m \u001b[39m\u001b[38;5;21;01msrc\u001b[39;00m\u001b[38;5;21;01m.\u001b[39;00m\u001b[38;5;21;01mdataset_generation\u001b[39;00m\u001b[38;5;250m \u001b[39m\u001b[38;5;28;01mimport\u001b[39;00m generate_unweighted_datasets, generate_weighted_datasets\n\u001b[0;32m      4\u001b[0m \u001b[38;5;28;01mfrom\u001b[39;00m\u001b[38;5;250m \u001b[39m\u001b[38;5;21;01msrc\u001b[39;00m\u001b[38;5;21;01m.\u001b[39;00m\u001b[38;5;21;01mtesting_and_statistics\u001b[39;00m\u001b[38;5;250m \u001b[39m\u001b[38;5;28;01mimport\u001b[39;00m test, multitest, present, multipresent, statistics, create_output_dict, convert_to_dataframe, save_dataframes_to_csv\n",
      "\u001b[1;31mModuleNotFoundError\u001b[0m: No module named 'src'"
     ]
    }
   ],
   "source": [
    "#sys add src to python path or smth.\n",
    "import numpy as np\n",
    "from src.lazy_branch_and_bound import LazyBranchAndBound\n",
    "from src.dataset_generation import generate_unweighted_datasets, generate_weighted_datasets\n",
    "from src.testing_and_statistics import test, multitest, present, multipresent, statistics, create_output_dict, convert_to_dataframe, save_dataframes_to_csv\n"
   ]
  },
  {
   "cell_type": "code",
   "execution_count": null,
   "metadata": {
    "id": "dataset-parameters"
   },
   "outputs": [],
   "source": [
    "# Example usage\n",
    "N = [10, 20, 30]  # Example values\n",
    "m = 5  # Example value\n",
    "w = 1  # Example value\n",
    "W = 10  # Example value\n",
    "\n",
    "# Generate datasets\n",
    "unweighted_datasets = generate_unweighted_datasets(N, m)\n",
    "weighted_datasets = generate_weighted_datasets(N, m, w, W)\n",
    "\n",
    "# Example adjacency matrix\n",
    "A = np.array([[0, 1], [1, 0]])  # Replace with actual adjacency matrix\n",
    "k = 2  # Example value\n",
    "initial_guess = 0.5  # Example value\n",
    "\n",
    "# Initialize and run the algorithm\n",
    "algorithm = LazyBranchAndBound(A, k, initial_guess)\n",
    "best_guess = algorithm.search(updates=True)\n",
    "print(\"Best guess:\", best_guess)\n",
    "\n",
    "# Example of creating output dictionaries and converting to DataFrames\n",
    "output_dict = create_output_dict()\n",
    "dataframes = convert_to_dataframe(output_dict)\n",
    "\n",
    "# Save DataFrames to CSV files\n",
    "base_trial = 'example_trial'\n",
    "save_dataframes_to_csv(dataframes, base_trial)"
   ]
  }
 ],
 "metadata": {
  "kernelspec": {
   "display_name": "Python 3",
   "language": "python",
   "name": "python3"
  },
  "language_info": {
   "codemirror_mode": {
    "name": "ipython",
    "version": 3
   },
   "file_extension": ".py",
   "mimetype": "text/x-python",
   "name": "python",
   "nbconvert_exporter": "python",
   "pygments_lexer": "ipython3",
   "version": "3.10.0"
  }
 },
 "nbformat": 4,
 "nbformat_minor": 4
}
